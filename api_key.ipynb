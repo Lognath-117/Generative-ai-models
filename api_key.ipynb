{
  "nbformat": 4,
  "nbformat_minor": 0,
  "metadata": {
    "colab": {
      "provenance": []
    },
    "kernelspec": {
      "name": "python3",
      "display_name": "Python 3"
    },
    "language_info": {
      "name": "python"
    }
  },
  "cells": [
    {
      "cell_type": "code",
      "execution_count": 4,
      "metadata": {
        "colab": {
          "base_uri": "https://localhost:8080/",
          "height": 680
        },
        "id": "5HLfThAsggKG",
        "outputId": "19bf7c3b-e371-49b4-bfac-fb55df5dea4c"
      },
      "outputs": [
        {
          "output_type": "stream",
          "name": "stderr",
          "text": [
            "/usr/local/lib/python3.11/dist-packages/gradio/interface.py:416: UserWarning: The `allow_flagging` parameter in `Interface` is deprecated.Use `flagging_mode` instead.\n",
            "  warnings.warn(\n"
          ]
        },
        {
          "output_type": "stream",
          "name": "stdout",
          "text": [
            "It looks like you are running Gradio on a hosted a Jupyter notebook. For the Gradio app to work, sharing must be enabled. Automatically setting `share=True` (you can turn this off by setting `share=False` in `launch()` explicitly).\n",
            "\n",
            "Colab notebook detected. To show errors in colab notebook, set debug=True in launch()\n",
            "* Running on public URL: https://8a5502760f901a7997.gradio.live\n",
            "\n",
            "This share link expires in 1 week. For free permanent hosting and GPU upgrades, run `gradio deploy` from the terminal in the working directory to deploy to Hugging Face Spaces (https://huggingface.co/spaces)\n"
          ]
        },
        {
          "output_type": "display_data",
          "data": {
            "text/plain": [
              "<IPython.core.display.HTML object>"
            ],
            "text/html": [
              "<div><iframe src=\"https://8a5502760f901a7997.gradio.live\" width=\"100%\" height=\"500\" allow=\"autoplay; camera; microphone; clipboard-read; clipboard-write;\" frameborder=\"0\" allowfullscreen></iframe></div>"
            ]
          },
          "metadata": {}
        },
        {
          "output_type": "execute_result",
          "data": {
            "text/plain": []
          },
          "metadata": {},
          "execution_count": 4
        }
      ],
      "source": [
        "import gradio as gr\n",
        "import requests\n",
        "import random\n",
        "\n",
        "# Backup activities\n",
        "mock_activities = [\n",
        "    {\"activity\": \"Go for a walk\", \"type\": \"recreational\", \"participants\": 1, \"price\": 0.1},\n",
        "    {\"activity\": \"Learn Python\", \"type\": \"education\", \"participants\": 1, \"price\": 0},\n",
        "    {\"activity\": \"Have a video call with a friend\", \"type\": \"social\", \"participants\": 2, \"price\": 0},\n",
        "    {\"activity\": \"Cook a new recipe\", \"type\": \"cooking\", \"participants\": 1, \"price\": 0.3},\n",
        "    {\"activity\": \"Volunteer online\", \"type\": \"charity\", \"participants\": 1, \"price\": 0},\n",
        "    {\"activity\": \"Meditate for 10 minutes\", \"type\": \"relaxation\", \"participants\": 1, \"price\": 0},\n",
        "]\n",
        "\n",
        "activity_types = [\n",
        "    \"random\", \"education\", \"recreational\", \"social\", \"diy\",\n",
        "    \"charity\", \"cooking\", \"relaxation\", \"music\", \"busywork\"\n",
        "]\n",
        "\n",
        "def get_activity_ui(activity_type, participants):\n",
        "    base_url = \"https://www.boredapi.com/api/activity\"\n",
        "    params = {}\n",
        "\n",
        "    if activity_type != \"random\":\n",
        "        params[\"type\"] = activity_type\n",
        "    if participants != \"any\":\n",
        "        params[\"participants\"] = int(participants)\n",
        "\n",
        "    try:\n",
        "        response = requests.get(base_url, params=params, timeout=5)\n",
        "        data = response.json()\n",
        "\n",
        "        if 'error' in data:\n",
        "            raise ValueError(data['error'])\n",
        "\n",
        "        return (\n",
        "            f\"💡 **Activity**: {data['activity']}\\n\"\n",
        "            f\"👤 **Type**: {data['type'].capitalize()}\\n\"\n",
        "            f\"👥 **Participants**: {data['participants']}\\n\"\n",
        "            f\"💰 **Price**: {data['price']}\\n\"\n",
        "            f\"🔗 **Link**: {data['link'] or 'None'}\"\n",
        "        )\n",
        "\n",
        "    except Exception:\n",
        "        # Filter fallback activities\n",
        "        filtered = mock_activities\n",
        "        if activity_type != \"random\":\n",
        "            filtered = [a for a in filtered if a[\"type\"] == activity_type]\n",
        "        if participants != \"any\":\n",
        "            filtered = [a for a in filtered if a[\"participants\"] == int(participants)]\n",
        "\n",
        "        if not filtered:\n",
        "            return \"❌ No suggestions found offline with the given filters.\"\n",
        "        activity = random.choice(filtered)\n",
        "        return (\n",
        "            f\"💡 **Activity**: {activity['activity']}\\n\"\n",
        "            f\"👤 **Type**: {activity['type'].capitalize()}\\n\"\n",
        "            f\"👥 **Participants**: {activity['participants']}\\n\"\n",
        "            f\"💰 **Price**: {activity['price']}\"\n",
        "        )\n",
        "\n",
        "# Gradio UI\n",
        "demo = gr.Interface(\n",
        "    fn=get_activity_ui,\n",
        "    inputs=[\n",
        "        gr.Dropdown(activity_types, label=\"Choose activity type\"),\n",
        "        gr.Dropdown([\"any\", \"1\", \"2\", \"3\", \"4\", \"5\"], label=\"Number of participants\"),\n",
        "    ],\n",
        "    outputs=gr.Markdown(label=\"Suggested Activity\"),\n",
        "    title=\"🎉 Bored? Here's Something Fun!\",\n",
        "    description=\"Choose an activity type and number of participants, and get a fun idea!\",\n",
        "    allow_flagging=\"never\"\n",
        ")\n",
        "\n",
        "demo.launch()\n"
      ]
    },
    {
      "cell_type": "code",
      "source": [
        "import gradio as gr\n",
        "import requests\n",
        "\n",
        "# Function to fetch joke from API\n",
        "def get_joke(category, joke_type):\n",
        "    url = f\"https://v2.jokeapi.dev/joke/{category}\"\n",
        "\n",
        "    params = {}\n",
        "    if joke_type != \"any\":\n",
        "        params[\"type\"] = joke_type\n",
        "\n",
        "    try:\n",
        "        response = requests.get(url, params=params)\n",
        "        data = response.json()\n",
        "\n",
        "        if data.get(\"error\"):\n",
        "            return f\"❌ Error: {data.get('message', 'Failed to fetch joke.')}\"\n",
        "\n",
        "        if data[\"type\"] == \"single\":\n",
        "            return f\"😂 **Joke:**\\n{data['joke']}\"\n",
        "        else:\n",
        "            return f\"🤣 **Setup:** {data['setup']}\\n\\n😆 **Delivery:** {data['delivery']}\"\n",
        "\n",
        "    except Exception as e:\n",
        "        return f\"⚠️ Failed to get joke: {e}\"\n",
        "\n",
        "# Gradio UI setup\n",
        "category_list = [\"Any\", \"Programming\", \"Misc\", \"Dark\", \"Pun\", \"Spooky\", \"Christmas\"]\n",
        "joke_type_list = [\"any\", \"single\", \"twopart\"]\n",
        "\n",
        "demo = gr.Interface(\n",
        "    fn=get_joke,\n",
        "    inputs=[\n",
        "        gr.Dropdown(category_list, label=\"Joke Category\", value=\"Any\"),\n",
        "        gr.Dropdown(joke_type_list, label=\"Joke Type\", value=\"any\")\n",
        "    ],\n",
        "    outputs=gr.Markdown(label=\"Your Joke\"),\n",
        "    title=\"🤣 Random Joke Generator\",\n",
        "    description=\"Choose a joke category and type to get a random joke!\",\n",
        "    allow_flagging=\"never\"\n",
        ")\n",
        "\n",
        "demo.launch()\n"
      ],
      "metadata": {
        "colab": {
          "base_uri": "https://localhost:8080/",
          "height": 680
        },
        "id": "AKfJR4GbiWKP",
        "outputId": "c4d6ca69-56f5-4831-973f-299df5341514"
      },
      "execution_count": 5,
      "outputs": [
        {
          "output_type": "stream",
          "name": "stderr",
          "text": [
            "/usr/local/lib/python3.11/dist-packages/gradio/interface.py:416: UserWarning: The `allow_flagging` parameter in `Interface` is deprecated.Use `flagging_mode` instead.\n",
            "  warnings.warn(\n"
          ]
        },
        {
          "output_type": "stream",
          "name": "stdout",
          "text": [
            "It looks like you are running Gradio on a hosted a Jupyter notebook. For the Gradio app to work, sharing must be enabled. Automatically setting `share=True` (you can turn this off by setting `share=False` in `launch()` explicitly).\n",
            "\n",
            "Colab notebook detected. To show errors in colab notebook, set debug=True in launch()\n",
            "* Running on public URL: https://3f8f8e91bd25c9e98e.gradio.live\n",
            "\n",
            "This share link expires in 1 week. For free permanent hosting and GPU upgrades, run `gradio deploy` from the terminal in the working directory to deploy to Hugging Face Spaces (https://huggingface.co/spaces)\n"
          ]
        },
        {
          "output_type": "display_data",
          "data": {
            "text/plain": [
              "<IPython.core.display.HTML object>"
            ],
            "text/html": [
              "<div><iframe src=\"https://3f8f8e91bd25c9e98e.gradio.live\" width=\"100%\" height=\"500\" allow=\"autoplay; camera; microphone; clipboard-read; clipboard-write;\" frameborder=\"0\" allowfullscreen></iframe></div>"
            ]
          },
          "metadata": {}
        },
        {
          "output_type": "execute_result",
          "data": {
            "text/plain": []
          },
          "metadata": {},
          "execution_count": 5
        }
      ]
    },
    {
      "cell_type": "code",
      "source": [
        "import gradio as gr\n",
        "import requests\n",
        "\n",
        "# Translator function using Fun Translations API\n",
        "def translate_fun(style, text):\n",
        "    url = f\"https://api.funtranslations.com/translate/{style}.json\"\n",
        "    payload = {\"text\": text}\n",
        "\n",
        "    try:\n",
        "        response = requests.post(url, data=payload)\n",
        "        data = response.json()\n",
        "\n",
        "        if \"error\" in data:\n",
        "            return f\"⚠️ Error: {data['error']['message']}\"\n",
        "\n",
        "        return f\"🎭 **Translated Text:**\\n\\n{data['contents']['translated']}\"\n",
        "\n",
        "    except Exception as e:\n",
        "        return f\"⚠️ Failed to connect to the translation API: {e}\"\n",
        "\n",
        "# Available fun translation styles\n",
        "styles = [\n",
        "    \"shakespeare\", \"yoda\", \"pirate\", \"minion\",\n",
        "    \"valyrian\", \"sith\", \"dothraki\", \"cheunh\", \"ferb-latin\"\n",
        "]\n",
        "\n",
        "# Gradio UI\n",
        "demo = gr.Interface(\n",
        "    fn=translate_fun,\n",
        "    inputs=[\n",
        "        gr.Dropdown(styles, label=\"Choose a fun translation style\", value=\"yoda\"),\n",
        "        gr.Textbox(label=\"Enter your text\", placeholder=\"Speak like a pirate or Yoda you must...\", lines=3)\n",
        "    ],\n",
        "    outputs=gr.Markdown(label=\"Translated Output\"),\n",
        "    title=\"🧠 NLP Fun Translator\",\n",
        "    description=\"Translate your text into Yoda-speak, Pirate slang, Shakespearean English and more!\",\n",
        "    allow_flagging=\"never\"\n",
        ")\n",
        "\n",
        "demo.launch()\n"
      ],
      "metadata": {
        "colab": {
          "base_uri": "https://localhost:8080/",
          "height": 680
        },
        "id": "s_3qH1RojT1I",
        "outputId": "c71dfee8-b0d1-401f-aba6-cd58150d4e88"
      },
      "execution_count": 6,
      "outputs": [
        {
          "output_type": "stream",
          "name": "stderr",
          "text": [
            "/usr/local/lib/python3.11/dist-packages/gradio/interface.py:416: UserWarning: The `allow_flagging` parameter in `Interface` is deprecated.Use `flagging_mode` instead.\n",
            "  warnings.warn(\n"
          ]
        },
        {
          "output_type": "stream",
          "name": "stdout",
          "text": [
            "It looks like you are running Gradio on a hosted a Jupyter notebook. For the Gradio app to work, sharing must be enabled. Automatically setting `share=True` (you can turn this off by setting `share=False` in `launch()` explicitly).\n",
            "\n",
            "Colab notebook detected. To show errors in colab notebook, set debug=True in launch()\n",
            "* Running on public URL: https://0d3f2133ae098c059a.gradio.live\n",
            "\n",
            "This share link expires in 1 week. For free permanent hosting and GPU upgrades, run `gradio deploy` from the terminal in the working directory to deploy to Hugging Face Spaces (https://huggingface.co/spaces)\n"
          ]
        },
        {
          "output_type": "display_data",
          "data": {
            "text/plain": [
              "<IPython.core.display.HTML object>"
            ],
            "text/html": [
              "<div><iframe src=\"https://0d3f2133ae098c059a.gradio.live\" width=\"100%\" height=\"500\" allow=\"autoplay; camera; microphone; clipboard-read; clipboard-write;\" frameborder=\"0\" allowfullscreen></iframe></div>"
            ]
          },
          "metadata": {}
        },
        {
          "output_type": "execute_result",
          "data": {
            "text/plain": []
          },
          "metadata": {},
          "execution_count": 6
        }
      ]
    },
    {
      "cell_type": "code",
      "source": [
        "import gradio as gr\n",
        "import cv2\n",
        "import numpy as np\n",
        "\n",
        "def process_image(effect, image):\n",
        "    img = cv2.cvtColor(image, cv2.COLOR_RGB2BGR)\n",
        "\n",
        "    if effect == \"Grayscale\":\n",
        "        processed = cv2.cvtColor(img, cv2.COLOR_BGR2GRAY)\n",
        "        processed = cv2.cvtColor(processed, cv2.COLOR_GRAY2RGB)\n",
        "    elif effect == \"Canny Edge\":\n",
        "        edges = cv2.Canny(img, 100, 200)\n",
        "        processed = cv2.cvtColor(edges, cv2.COLOR_GRAY2RGB)\n",
        "    elif effect == \"Blur\":\n",
        "        processed = cv2.GaussianBlur(img, (15, 15), 0)\n",
        "    elif effect == \"Cartoon\":\n",
        "        gray = cv2.cvtColor(img, cv2.COLOR_BGR2GRAY)\n",
        "        inv = 255 - gray\n",
        "        blur = cv2.GaussianBlur(inv, (21, 21), 0)\n",
        "        inv_blur = 255 - blur\n",
        "        sketch = cv2.divide(gray, inv_blur, scale=256.0)\n",
        "        processed = cv2.cvtColor(sketch, cv2.COLOR_GRAY2RGB)\n",
        "    else:\n",
        "        processed = img\n",
        "\n",
        "    return cv2.cvtColor(processed, cv2.COLOR_BGR2RGB)\n",
        "\n",
        "effects = [\"Original\", \"Grayscale\", \"Canny Edge\", \"Blur\", \"Cartoon\"]\n",
        "\n",
        "gr.Interface(\n",
        "    fn=process_image,\n",
        "    inputs=[\n",
        "        gr.Dropdown(choices=effects, label=\"Choose Effect\", value=\"Cartoon\"),\n",
        "        gr.Image(type=\"numpy\", label=\"Upload an Image\")\n",
        "    ],\n",
        "    outputs=gr.Image(label=\"Processed Image\"),\n",
        "    title=\"🎨 OpenCV Fun Image Processor\",\n",
        "    description=\"Apply fun filters to your image using OpenCV!\"\n",
        ").launch()\n"
      ],
      "metadata": {
        "colab": {
          "base_uri": "https://localhost:8080/",
          "height": 645
        },
        "id": "J5AVcqC7kE3-",
        "outputId": "663ec9ba-b2a2-4d2a-8e34-243bc559eb19"
      },
      "execution_count": 7,
      "outputs": [
        {
          "output_type": "stream",
          "name": "stdout",
          "text": [
            "It looks like you are running Gradio on a hosted a Jupyter notebook. For the Gradio app to work, sharing must be enabled. Automatically setting `share=True` (you can turn this off by setting `share=False` in `launch()` explicitly).\n",
            "\n",
            "Colab notebook detected. To show errors in colab notebook, set debug=True in launch()\n",
            "* Running on public URL: https://3e86197c0f039e9ab1.gradio.live\n",
            "\n",
            "This share link expires in 1 week. For free permanent hosting and GPU upgrades, run `gradio deploy` from the terminal in the working directory to deploy to Hugging Face Spaces (https://huggingface.co/spaces)\n"
          ]
        },
        {
          "output_type": "display_data",
          "data": {
            "text/plain": [
              "<IPython.core.display.HTML object>"
            ],
            "text/html": [
              "<div><iframe src=\"https://3e86197c0f039e9ab1.gradio.live\" width=\"100%\" height=\"500\" allow=\"autoplay; camera; microphone; clipboard-read; clipboard-write;\" frameborder=\"0\" allowfullscreen></iframe></div>"
            ]
          },
          "metadata": {}
        },
        {
          "output_type": "execute_result",
          "data": {
            "text/plain": []
          },
          "metadata": {},
          "execution_count": 7
        }
      ]
    },
    {
      "cell_type": "code",
      "source": [
        "import gradio as gr\n",
        "import requests\n",
        "\n",
        "def get_number_fact(number, fact_type):\n",
        "    try:\n",
        "        # Handle random separately\n",
        "        num_part = number if number.strip().lower() != \"random\" else \"random\"\n",
        "\n",
        "        # For date, use fixed format or ask user to enter 'month/day'\n",
        "        if fact_type == \"date\" and \"/\" not in num_part:\n",
        "            return \"Please enter a date in MM/DD format (e.g., 7/17).\"\n",
        "\n",
        "        url = f\"http://numbersapi.com/{num_part}/{fact_type}\"\n",
        "        response = requests.get(url)\n",
        "\n",
        "        if response.status_code == 200:\n",
        "            return response.text\n",
        "        else:\n",
        "            return f\"❌ Error: Couldn't fetch fact. Status code {response.status_code}\"\n",
        "    except Exception as e:\n",
        "        return f\"⚠️ Exception: {str(e)}\"\n",
        "\n",
        "gr.Interface(\n",
        "    fn=get_number_fact,\n",
        "    inputs=[\n",
        "        gr.Textbox(label=\"Enter a Number or 'random'\", placeholder=\"e.g., 42 or random\"),\n",
        "        gr.Radio([\"trivia\", \"math\", \"date\", \"year\"], label=\"Fact Type\", value=\"trivia\")\n",
        "    ],\n",
        "    outputs=gr.Textbox(label=\"Number Fact\"),\n",
        "    title=\"🔢 Numbers API Fun Fact Finder\",\n",
        "    description=\"Get trivia, math, date, or year facts about any number using the Numbers API!\"\n",
        ").launch()\n"
      ],
      "metadata": {
        "colab": {
          "base_uri": "https://localhost:8080/",
          "height": 645
        },
        "id": "salDwBRrknRI",
        "outputId": "3b27d8ae-00e3-4a40-a2ef-80fd95deccc6"
      },
      "execution_count": 9,
      "outputs": [
        {
          "output_type": "stream",
          "name": "stdout",
          "text": [
            "It looks like you are running Gradio on a hosted a Jupyter notebook. For the Gradio app to work, sharing must be enabled. Automatically setting `share=True` (you can turn this off by setting `share=False` in `launch()` explicitly).\n",
            "\n",
            "Colab notebook detected. To show errors in colab notebook, set debug=True in launch()\n",
            "* Running on public URL: https://75daa472833175288b.gradio.live\n",
            "\n",
            "This share link expires in 1 week. For free permanent hosting and GPU upgrades, run `gradio deploy` from the terminal in the working directory to deploy to Hugging Face Spaces (https://huggingface.co/spaces)\n"
          ]
        },
        {
          "output_type": "display_data",
          "data": {
            "text/plain": [
              "<IPython.core.display.HTML object>"
            ],
            "text/html": [
              "<div><iframe src=\"https://75daa472833175288b.gradio.live\" width=\"100%\" height=\"500\" allow=\"autoplay; camera; microphone; clipboard-read; clipboard-write;\" frameborder=\"0\" allowfullscreen></iframe></div>"
            ]
          },
          "metadata": {}
        },
        {
          "output_type": "execute_result",
          "data": {
            "text/plain": []
          },
          "metadata": {},
          "execution_count": 9
        }
      ]
    },
    {
      "cell_type": "code",
      "source": [
        "!pip install vosk coqui-tts gradio soundfile scipy --quiet\n",
        "!apt-get install ffmpeg -y\n"
      ],
      "metadata": {
        "colab": {
          "base_uri": "https://localhost:8080/"
        },
        "id": "mDIyH4domm4Z",
        "outputId": "6d93cf0d-39bd-4c7e-eaa9-c512d0b65705"
      },
      "execution_count": 10,
      "outputs": [
        {
          "output_type": "stream",
          "name": "stdout",
          "text": [
            "  Preparing metadata (setup.py) ... \u001b[?25l\u001b[?25hdone\n",
            "\u001b[2K     \u001b[90m━━━━━━━━━━━━━━━━━━━━━━━━━━━━━━━━━━━━━━━━\u001b[0m \u001b[32m3.7/3.7 MB\u001b[0m \u001b[31m64.7 MB/s\u001b[0m eta \u001b[36m0:00:00\u001b[0m\n",
            "\u001b[?25h  Preparing metadata (setup.py) ... \u001b[?25l\u001b[?25hdone\n",
            "\u001b[2K     \u001b[90m━━━━━━━━━━━━━━━━━━━━━━━━━━━━━━━━━━━━━━━━\u001b[0m \u001b[32m85.3/85.3 kB\u001b[0m \u001b[31m9.1 MB/s\u001b[0m eta \u001b[36m0:00:00\u001b[0m\n",
            "\u001b[?25h  Preparing metadata (setup.py) ... \u001b[?25l\u001b[?25hdone\n",
            "\u001b[2K     \u001b[90m━━━━━━━━━━━━━━━━━━━━━━━━━━━━━━━━━━━━━━\u001b[0m \u001b[32m101.6/101.6 kB\u001b[0m \u001b[31m10.5 MB/s\u001b[0m eta \u001b[36m0:00:00\u001b[0m\n",
            "\u001b[?25h  Preparing metadata (setup.py) ... \u001b[?25l\u001b[?25hdone\n",
            "\u001b[2K     \u001b[90m━━━━━━━━━━━━━━━━━━━━━━━━━━━━━━━━━━━━━━━━\u001b[0m \u001b[32m15.3/15.3 MB\u001b[0m \u001b[31m98.9 MB/s\u001b[0m eta \u001b[36m0:00:00\u001b[0m\n",
            "\u001b[?25h  Preparing metadata (setup.py) ... \u001b[?25l\u001b[?25hdone\n",
            "\u001b[2K     \u001b[90m━━━━━━━━━━━━━━━━━━━━━━━━━━━━━━━━━━━━━━━━\u001b[0m \u001b[32m18.1/18.1 MB\u001b[0m \u001b[31m20.9 MB/s\u001b[0m eta \u001b[36m0:00:00\u001b[0m\n",
            "\u001b[?25h  Preparing metadata (setup.py) ... \u001b[?25l\u001b[?25hdone\n",
            "\u001b[2K     \u001b[90m━━━━━━━━━━━━━━━━━━━━━━━━━━━━━━━━━━━━━━━━\u001b[0m \u001b[32m31.4/31.4 MB\u001b[0m \u001b[31m14.4 MB/s\u001b[0m eta \u001b[36m0:00:00\u001b[0m\n",
            "\u001b[?25h  Preparing metadata (setup.py) ... \u001b[?25l\u001b[?25hdone\n",
            "\u001b[2K     \u001b[90m━━━━━━━━━━━━━━━━━━━━━━━━━━━━━━━━━━━━━━━━\u001b[0m \u001b[32m10.9/10.9 MB\u001b[0m \u001b[31m89.1 MB/s\u001b[0m eta \u001b[36m0:00:00\u001b[0m\n",
            "\u001b[?25h  Preparing metadata (setup.py) ... \u001b[?25l\u001b[?25hdone\n",
            "  Preparing metadata (setup.py) ... \u001b[?25l\u001b[?25hdone\n",
            "\u001b[2K   \u001b[90m━━━━━━━━━━━━━━━━━━━━━━━━━━━━━━━━━━━━━━━━\u001b[0m \u001b[32m7.2/7.2 MB\u001b[0m \u001b[31m96.3 MB/s\u001b[0m eta \u001b[36m0:00:00\u001b[0m\n",
            "\u001b[2K   \u001b[90m━━━━━━━━━━━━━━━━━━━━━━━━━━━━━━━━━━━━━━━━\u001b[0m \u001b[32m857.5/857.5 kB\u001b[0m \u001b[31m53.5 MB/s\u001b[0m eta \u001b[36m0:00:00\u001b[0m\n",
            "\u001b[2K   \u001b[90m━━━━━━━━━━━━━━━━━━━━━━━━━━━━━━━━━━━━━━━━\u001b[0m \u001b[32m345.1/345.1 kB\u001b[0m \u001b[31m30.7 MB/s\u001b[0m eta \u001b[36m0:00:00\u001b[0m\n",
            "\u001b[2K   \u001b[90m━━━━━━━━━━━━━━━━━━━━━━━━━━━━━━━━━━━━━━━━\u001b[0m \u001b[32m57.2/57.2 kB\u001b[0m \u001b[31m5.0 MB/s\u001b[0m eta \u001b[36m0:00:00\u001b[0m\n",
            "\u001b[2K   \u001b[90m━━━━━━━━━━━━━━━━━━━━━━━━━━━━━━━━━━━━━━━━\u001b[0m \u001b[32m606.1/606.1 kB\u001b[0m \u001b[31m42.6 MB/s\u001b[0m eta \u001b[36m0:00:00\u001b[0m\n",
            "\u001b[2K   \u001b[90m━━━━━━━━━━━━━━━━━━━━━━━━━━━━━━━━━━━━━━━━\u001b[0m \u001b[32m163.5/163.5 kB\u001b[0m \u001b[31m14.6 MB/s\u001b[0m eta \u001b[36m0:00:00\u001b[0m\n",
            "\u001b[2K   \u001b[90m━━━━━━━━━━━━━━━━━━━━━━━━━━━━━━━━━━━━━━━━\u001b[0m \u001b[32m71.1/71.1 kB\u001b[0m \u001b[31m6.2 MB/s\u001b[0m eta \u001b[36m0:00:00\u001b[0m\n",
            "\u001b[2K   \u001b[90m━━━━━━━━━━━━━━━━━━━━━━━━━━━━━━━━━━━━━━━━\u001b[0m \u001b[32m363.4/363.4 MB\u001b[0m \u001b[31m5.5 MB/s\u001b[0m eta \u001b[36m0:00:00\u001b[0m\n",
            "\u001b[2K   \u001b[90m━━━━━━━━━━━━━━━━━━━━━━━━━━━━━━━━━━━━━━━━\u001b[0m \u001b[32m13.8/13.8 MB\u001b[0m \u001b[31m125.0 MB/s\u001b[0m eta \u001b[36m0:00:00\u001b[0m\n",
            "\u001b[2K   \u001b[90m━━━━━━━━━━━━━━━━━━━━━━━━━━━━━━━━━━━━━━━━\u001b[0m \u001b[32m24.6/24.6 MB\u001b[0m \u001b[31m100.7 MB/s\u001b[0m eta \u001b[36m0:00:00\u001b[0m\n",
            "\u001b[2K   \u001b[90m━━━━━━━━━━━━━━━━━━━━━━━━━━━━━━━━━━━━━━━━\u001b[0m \u001b[32m883.7/883.7 kB\u001b[0m \u001b[31m56.3 MB/s\u001b[0m eta \u001b[36m0:00:00\u001b[0m\n",
            "\u001b[2K   \u001b[90m━━━━━━━━━━━━━━━━━━━━━━━━━━━━━━━━━━━━━━━━\u001b[0m \u001b[32m664.8/664.8 MB\u001b[0m \u001b[31m1.3 MB/s\u001b[0m eta \u001b[36m0:00:00\u001b[0m\n",
            "\u001b[2K   \u001b[90m━━━━━━━━━━━━━━━━━━━━━━━━━━━━━━━━━━━━━━━━\u001b[0m \u001b[32m211.5/211.5 MB\u001b[0m \u001b[31m5.1 MB/s\u001b[0m eta \u001b[36m0:00:00\u001b[0m\n",
            "\u001b[2K   \u001b[90m━━━━━━━━━━━━━━━━━━━━━━━━━━━━━━━━━━━━━━━━\u001b[0m \u001b[32m56.3/56.3 MB\u001b[0m \u001b[31m13.2 MB/s\u001b[0m eta \u001b[36m0:00:00\u001b[0m\n",
            "\u001b[2K   \u001b[90m━━━━━━━━━━━━━━━━━━━━━━━━━━━━━━━━━━━━━━━━\u001b[0m \u001b[32m127.9/127.9 MB\u001b[0m \u001b[31m9.2 MB/s\u001b[0m eta \u001b[36m0:00:00\u001b[0m\n",
            "\u001b[2K   \u001b[90m━━━━━━━━━━━━━━━━━━━━━━━━━━━━━━━━━━━━━━━━\u001b[0m \u001b[32m207.5/207.5 MB\u001b[0m \u001b[31m5.6 MB/s\u001b[0m eta \u001b[36m0:00:00\u001b[0m\n",
            "\u001b[2K   \u001b[90m━━━━━━━━━━━━━━━━━━━━━━━━━━━━━━━━━━━━━━━━\u001b[0m \u001b[32m21.1/21.1 MB\u001b[0m \u001b[31m109.5 MB/s\u001b[0m eta \u001b[36m0:00:00\u001b[0m\n",
            "\u001b[2K   \u001b[90m━━━━━━━━━━━━━━━━━━━━━━━━━━━━━━━━━━━━━━━━\u001b[0m \u001b[32m293.8/293.8 kB\u001b[0m \u001b[31m24.6 MB/s\u001b[0m eta \u001b[36m0:00:00\u001b[0m\n",
            "\u001b[2K   \u001b[90m━━━━━━━━━━━━━━━━━━━━━━━━━━━━━━━━━━━━━━━━\u001b[0m \u001b[32m1.3/1.3 MB\u001b[0m \u001b[31m67.6 MB/s\u001b[0m eta \u001b[36m0:00:00\u001b[0m\n",
            "\u001b[?25h  Building wheel for encodec (setup.py) ... \u001b[?25l\u001b[?25hdone\n",
            "  Building wheel for gruut (setup.py) ... \u001b[?25l\u001b[?25hdone\n",
            "  Building wheel for srt (setup.py) ... \u001b[?25l\u001b[?25hdone\n",
            "  Building wheel for docopt (setup.py) ... \u001b[?25l\u001b[?25hdone\n",
            "  Building wheel for gruut-ipa (setup.py) ... \u001b[?25l\u001b[?25hdone\n",
            "  Building wheel for gruut_lang_de (setup.py) ... \u001b[?25l\u001b[?25hdone\n",
            "  Building wheel for gruut_lang_en (setup.py) ... \u001b[?25l\u001b[?25hdone\n",
            "  Building wheel for gruut_lang_es (setup.py) ... \u001b[?25l\u001b[?25hdone\n",
            "  Building wheel for gruut_lang_fr (setup.py) ... \u001b[?25l\u001b[?25hdone\n",
            "Reading package lists... Done\n",
            "Building dependency tree... Done\n",
            "Reading state information... Done\n",
            "ffmpeg is already the newest version (7:4.4.2-0ubuntu0.22.04.1).\n",
            "0 upgraded, 0 newly installed, 0 to remove and 35 not upgraded.\n"
          ]
        }
      ]
    },
    {
      "cell_type": "code",
      "source": [
        "import os\n",
        "import zipfile\n",
        "import requests\n",
        "\n",
        "model_url = \"https://alphacephei.com/vosk/models/vosk-model-small-en-us-0.15.zip\"\n",
        "model_zip = \"vosk_model.zip\"\n",
        "\n",
        "if not os.path.exists(\"vosk-model-small-en-us-0.15\"):\n",
        "    print(\"🔽 Downloading Vosk model...\")\n",
        "    r = requests.get(model_url)\n",
        "    with open(model_zip, \"wb\") as f:\n",
        "        f.write(r.content)\n",
        "\n",
        "    with zipfile.ZipFile(model_zip, 'r') as zip_ref:\n",
        "        zip_ref.extractall(\".\")\n"
      ],
      "metadata": {
        "colab": {
          "base_uri": "https://localhost:8080/"
        },
        "id": "kNjyT-RGmroa",
        "outputId": "afb19fdd-7305-4117-f8cc-ab2650efee3e"
      },
      "execution_count": 11,
      "outputs": [
        {
          "output_type": "stream",
          "name": "stdout",
          "text": [
            "🔽 Downloading Vosk model...\n"
          ]
        }
      ]
    },
    {
      "cell_type": "code",
      "source": [
        "!pip install gradio coqui-ai-tts vosk soundfile numpy\n",
        "\n",
        "import gradio as gr\n",
        "import soundfile as sf\n",
        "import numpy as np\n",
        "import os\n",
        "from vosk import Model, KaldiRecognizer\n",
        "import json\n",
        "import tempfile\n",
        "from TTS.api import TTS\n",
        "\n",
        "# Load models\n",
        "vosk_model = Model(lang=\"en-us\")  # Offline ASR model\n",
        "tts = TTS(model_name=\"tts_models/en/ljspeech/tacotron2-DDC\", progress_bar=False, gpu=False)  # Offline TTS model\n",
        "\n",
        "# Speech to text\n",
        "def speech_to_text(audio):\n",
        "    if audio is None:\n",
        "        return \"No audio input provided.\"\n",
        "    audio, samplerate = sf.read(audio)\n",
        "    recognizer = KaldiRecognizer(vosk_model, samplerate)\n",
        "    recognizer.AcceptWaveform(audio.tobytes())\n",
        "    result = recognizer.Result()\n",
        "    return json.loads(result).get(\"text\", \"\")\n",
        "\n",
        "# Text to speech\n",
        "def text_to_speech(text):\n",
        "    if not text:\n",
        "        return None\n",
        "    output_path = tempfile.mktemp(suffix=\".wav\")\n",
        "    tts.tts_to_file(text=text, file_path=output_path)\n",
        "    return output_path\n",
        "\n",
        "# Master function\n",
        "def run_app(input_mode, output_mode, text_input, audio_input):\n",
        "    # Get input text\n",
        "    input_text = \"\"\n",
        "    if input_mode == \"Text\":\n",
        "        input_text = text_input\n",
        "    elif input_mode == \"Speech\":\n",
        "        input_text = speech_to_text(audio_input)\n",
        "\n",
        "    # Get output\n",
        "    if output_mode == \"Text\":\n",
        "        return input_text, None\n",
        "    elif output_mode == \"Speech\":\n",
        "        output_audio = text_to_speech(input_text)\n",
        "        return \"\", output_audio\n",
        "\n",
        "# Gradio UI\n",
        "with gr.Blocks(title=\"🧠 Speech ↔ Text Assistant\") as app:\n",
        "    gr.Markdown(\"## 🎙️📝 Offline Speech-Text Assistant using Vosk & Coqui\")\n",
        "\n",
        "    input_mode = gr.Radio([\"Text\", \"Speech\"], label=\"Input Mode\", value=\"Text\")\n",
        "    output_mode = gr.Radio([\"Text\", \"Speech\"], label=\"Output Mode\", value=\"Text\")\n",
        "\n",
        "    text_input = gr.Textbox(label=\"Input Text\", visible=True)\n",
        "    audio_input = gr.Audio(type=\"filepath\", label=\"Input Speech\", visible=False)\n",
        "\n",
        "    run_button = gr.Button(\"🚀 Run\")\n",
        "\n",
        "    text_output = gr.Textbox(label=\"Output Text\")\n",
        "    audio_output = gr.Audio(label=\"Output Speech\")\n",
        "\n",
        "    def toggle_visibility(input_mode):\n",
        "        return {\n",
        "            text_input: gr.update(visible=input_mode == \"Text\"),\n",
        "            audio_input: gr.update(visible=input_mode == \"Speech\")\n",
        "        }\n",
        "\n",
        "    input_mode.change(toggle_visibility, inputs=[input_mode], outputs=[text_input, audio_input])\n",
        "\n",
        "    run_button.click(\n",
        "        run_app,\n",
        "        inputs=[input_mode, output_mode, text_input, audio_input],\n",
        "        outputs=[text_output, audio_output]\n",
        "    )\n",
        "\n",
        "app.launch()\n"
      ],
      "metadata": {
        "colab": {
          "base_uri": "https://localhost:8080/",
          "height": 697
        },
        "id": "315o9QUwmyep",
        "outputId": "dcf7f117-5d8c-4ffb-eacb-b85a92f540eb"
      },
      "execution_count": 3,
      "outputs": [
        {
          "output_type": "stream",
          "name": "stdout",
          "text": [
            "Requirement already satisfied: gradio in /usr/local/lib/python3.11/dist-packages (5.31.0)\n",
            "\u001b[31mERROR: Could not find a version that satisfies the requirement coqui-ai-tts (from versions: none)\u001b[0m\u001b[31m\n",
            "\u001b[0m\u001b[31mERROR: No matching distribution found for coqui-ai-tts\u001b[0m\u001b[31m\n",
            "\u001b[0mIt looks like you are running Gradio on a hosted a Jupyter notebook. For the Gradio app to work, sharing must be enabled. Automatically setting `share=True` (you can turn this off by setting `share=False` in `launch()` explicitly).\n",
            "\n",
            "Colab notebook detected. To show errors in colab notebook, set debug=True in launch()\n",
            "* Running on public URL: https://bd7405c904c93635b7.gradio.live\n",
            "\n",
            "This share link expires in 1 week. For free permanent hosting and GPU upgrades, run `gradio deploy` from the terminal in the working directory to deploy to Hugging Face Spaces (https://huggingface.co/spaces)\n"
          ]
        },
        {
          "output_type": "display_data",
          "data": {
            "text/plain": [
              "<IPython.core.display.HTML object>"
            ],
            "text/html": [
              "<div><iframe src=\"https://bd7405c904c93635b7.gradio.live\" width=\"100%\" height=\"500\" allow=\"autoplay; camera; microphone; clipboard-read; clipboard-write;\" frameborder=\"0\" allowfullscreen></iframe></div>"
            ]
          },
          "metadata": {}
        },
        {
          "output_type": "execute_result",
          "data": {
            "text/plain": []
          },
          "metadata": {},
          "execution_count": 3
        }
      ]
    },
    {
      "cell_type": "code",
      "source": [
        "import gradio as gr\n",
        "import requests\n",
        "\n",
        "# Geolocation function using IP\n",
        "def get_ip_info(ip_address):\n",
        "    if ip_address.strip().lower() == \"my ip\" or ip_address.strip() == \"\":\n",
        "        response = requests.get(\"http://ip-api.com/json/\")\n",
        "    else:\n",
        "        response = requests.get(f\"http://ip-api.com/json/{ip_address}\")\n",
        "\n",
        "    data = response.json()\n",
        "    if data[\"status\"] == \"success\":\n",
        "        location = f\"{data['city']}, {data['regionName']}, {data['country']}\"\n",
        "        isp = data[\"isp\"]\n",
        "        lat = data[\"lat\"]\n",
        "        lon = data[\"lon\"]\n",
        "        map_url = f\"https://maps.google.com/maps?q={lat},{lon}&hl=es;z=14&output=embed\"\n",
        "\n",
        "        result = {\n",
        "            \"IP Address\": data[\"query\"],\n",
        "            \"Location\": location,\n",
        "            \"ISP\": isp,\n",
        "            \"Latitude\": lat,\n",
        "            \"Longitude\": lon\n",
        "        }\n",
        "\n",
        "        return result, gr.HTML.update(value=f'<iframe width=\"100%\" height=\"300\" src=\"{map_url}\"></iframe>')\n",
        "    else:\n",
        "        return {\"Error\": data.get(\"message\", \"Unknown error\")}, None\n",
        "\n",
        "# Gradio UI\n",
        "with gr.Blocks(title=\"🌐 IP Geolocation Tracker\") as demo:\n",
        "    gr.Markdown(\"## 🌍 IP Geolocation Tracker (Using `ip-api.com`)\")\n",
        "\n",
        "    with gr.Row():\n",
        "        ip_input = gr.Textbox(label=\"Enter IP Address\", placeholder=\"e.g., 8.8.8.8 or 'my ip'\")\n",
        "        run_button = gr.Button(\"🔍 Track\")\n",
        "\n",
        "    json_output = gr.JSON(label=\"Geolocation Info\")\n",
        "    map_output = gr.HTML()\n",
        "\n",
        "    run_button.click(get_ip_info, inputs=ip_input, outputs=[json_output, map_output])\n",
        "\n",
        "demo.launch()\n"
      ],
      "metadata": {
        "colab": {
          "base_uri": "https://localhost:8080/",
          "height": 645
        },
        "id": "dG2NGJx3xF06",
        "outputId": "a4647285-604a-46cf-b990-f12f5104e0d4"
      },
      "execution_count": 1,
      "outputs": [
        {
          "output_type": "stream",
          "name": "stdout",
          "text": [
            "It looks like you are running Gradio on a hosted a Jupyter notebook. For the Gradio app to work, sharing must be enabled. Automatically setting `share=True` (you can turn this off by setting `share=False` in `launch()` explicitly).\n",
            "\n",
            "Colab notebook detected. To show errors in colab notebook, set debug=True in launch()\n",
            "* Running on public URL: https://b0e9704f479a2ac0ec.gradio.live\n",
            "\n",
            "This share link expires in 1 week. For free permanent hosting and GPU upgrades, run `gradio deploy` from the terminal in the working directory to deploy to Hugging Face Spaces (https://huggingface.co/spaces)\n"
          ]
        },
        {
          "output_type": "display_data",
          "data": {
            "text/plain": [
              "<IPython.core.display.HTML object>"
            ],
            "text/html": [
              "<div><iframe src=\"https://b0e9704f479a2ac0ec.gradio.live\" width=\"100%\" height=\"500\" allow=\"autoplay; camera; microphone; clipboard-read; clipboard-write;\" frameborder=\"0\" allowfullscreen></iframe></div>"
            ]
          },
          "metadata": {}
        },
        {
          "output_type": "execute_result",
          "data": {
            "text/plain": []
          },
          "metadata": {},
          "execution_count": 1
        }
      ]
    },
    {
      "cell_type": "code",
      "source": [
        "ip = \"8.8.8.8\"\n",
        "response = requests.get(f\"http://ip-api.com/json/{ip}\")\n",
        "data = response.json()\n",
        "print(data)\n",
        "import gradio as gr\n",
        "import requests\n",
        "\n",
        "def locate_ip(ip):\n",
        "    try:\n",
        "        response = requests.get(f\"http://ip-api.com/json/{ip}\")\n",
        "        data = response.json()\n",
        "        if data.get(\"status\") != \"success\":\n",
        "            return f\"❌ Error: {data.get('message', 'Unknown error')}\"\n",
        "        return f\"\"\"📍 IP Info:\n",
        "IP: {data.get('query')}\n",
        "City: {data.get('city')}\n",
        "Region: {data.get('regionName')}\n",
        "Country: {data.get('country')}\n",
        "Latitude: {data.get('lat')}\n",
        "Longitude: {data.get('lon')}\n",
        "ISP: {data.get('isp')}\"\"\"\n",
        "    except Exception as e:\n",
        "        return f\"⚠️ Exception: {str(e)}\"\n",
        "\n",
        "gr.Interface(fn=locate_ip, inputs=gr.Textbox(label=\"Enter IP\"), outputs=\"textbox\", title=\"IP Geolocation (via ip-api)\").launch()\n"
      ],
      "metadata": {
        "colab": {
          "base_uri": "https://localhost:8080/",
          "height": 663
        },
        "id": "KQX282OKxp0G",
        "outputId": "b4366f1b-6bf3-4ae9-d85d-0672ffc6b77d"
      },
      "execution_count": 5,
      "outputs": [
        {
          "output_type": "stream",
          "name": "stdout",
          "text": [
            "{'status': 'success', 'country': 'United States', 'countryCode': 'US', 'region': 'VA', 'regionName': 'Virginia', 'city': 'Ashburn', 'zip': '20149', 'lat': 39.03, 'lon': -77.5, 'timezone': 'America/New_York', 'isp': 'Google LLC', 'org': 'Google Public DNS', 'as': 'AS15169 Google LLC', 'query': '8.8.8.8'}\n",
            "It looks like you are running Gradio on a hosted a Jupyter notebook. For the Gradio app to work, sharing must be enabled. Automatically setting `share=True` (you can turn this off by setting `share=False` in `launch()` explicitly).\n",
            "\n",
            "Colab notebook detected. To show errors in colab notebook, set debug=True in launch()\n",
            "* Running on public URL: https://48220bda7d43677b18.gradio.live\n",
            "\n",
            "This share link expires in 1 week. For free permanent hosting and GPU upgrades, run `gradio deploy` from the terminal in the working directory to deploy to Hugging Face Spaces (https://huggingface.co/spaces)\n"
          ]
        },
        {
          "output_type": "display_data",
          "data": {
            "text/plain": [
              "<IPython.core.display.HTML object>"
            ],
            "text/html": [
              "<div><iframe src=\"https://48220bda7d43677b18.gradio.live\" width=\"100%\" height=\"500\" allow=\"autoplay; camera; microphone; clipboard-read; clipboard-write;\" frameborder=\"0\" allowfullscreen></iframe></div>"
            ]
          },
          "metadata": {}
        },
        {
          "output_type": "execute_result",
          "data": {
            "text/plain": []
          },
          "metadata": {},
          "execution_count": 5
        }
      ]
    }
  ]
}