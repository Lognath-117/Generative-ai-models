{
  "nbformat": 4,
  "nbformat_minor": 0,
  "metadata": {
    "colab": {
      "provenance": []
    },
    "kernelspec": {
      "name": "python3",
      "display_name": "Python 3"
    },
    "language_info": {
      "name": "python"
    }
  },
  "cells": [
    {
      "cell_type": "code",
      "execution_count": 10,
      "metadata": {
        "id": "JU5GbRU-mVp4"
      },
      "outputs": [],
      "source": [
        "# ✅ Step 1: Install Required Libraries\n",
        "!pip install -q transformers\n",
        "!pip install -q datasets\n",
        "# ✅ Step 1: Install Required Packages\n",
        "!pip install -q transformers gradio\n"
      ]
    },
    {
      "cell_type": "code",
      "source": [
        "\n",
        "# Step 2: Import libraries\n",
        "from transformers import pipeline\n",
        "import gradio as gr\n",
        "\n",
        "# Step 3: Load the Hugging Face NER model\n",
        "ner_pipeline = pipeline(\"ner\", model=\"dslim/bert-base-NER\", grouped_entities=True)\n",
        "\n",
        "# Step 4: Define NER function\n",
        "def ner_function(text):\n",
        "    if not text.strip():\n",
        "        return \"⚠️ Please enter some text.\"\n",
        "    results = ner_pipeline(text)\n",
        "    output = \"\"\n",
        "    for entity in results:\n",
        "        output += f\"🔹 **{entity['word']}** → `{entity['entity_group']}` ({entity['score']:.2f})\\n\"\n",
        "    return output\n",
        "\n",
        "# Step 5: Build minimal Gradio interface\n",
        "with gr.Blocks() as demo:\n",
        "    gr.Markdown(\"## 🔍 Named Entity Recognition (NER) with Hugging Face\")\n",
        "    gr.Markdown(\"Enter text below and click the button to detect entities like **people**, **locations**, and **organizations**.\")\n",
        "\n",
        "    input_text = gr.Textbox(label=\"Input Text\", lines=3, placeholder=\"e.g., Minato Namikaze was the Fourth Hokage of Konoha.\")\n",
        "    output_text = gr.Markdown()\n",
        "    btn = gr.Button(\"🚀 Detect Entities\")\n",
        "\n",
        "    btn.click(fn=ner_function, inputs=input_text, outputs=output_text)\n",
        "\n",
        "# Step 6: Launch the app\n",
        "demo.launch()\n"
      ],
      "metadata": {
        "colab": {
          "base_uri": "https://localhost:8080/",
          "height": 749
        },
        "id": "BH16l0MGmxcg",
        "outputId": "a30e23eb-bde3-4430-d28d-61e49ad0dbdb"
      },
      "execution_count": 12,
      "outputs": [
        {
          "output_type": "stream",
          "name": "stderr",
          "text": [
            "Some weights of the model checkpoint at dslim/bert-base-NER were not used when initializing BertForTokenClassification: ['bert.pooler.dense.bias', 'bert.pooler.dense.weight']\n",
            "- This IS expected if you are initializing BertForTokenClassification from the checkpoint of a model trained on another task or with another architecture (e.g. initializing a BertForSequenceClassification model from a BertForPreTraining model).\n",
            "- This IS NOT expected if you are initializing BertForTokenClassification from the checkpoint of a model that you expect to be exactly identical (initializing a BertForSequenceClassification model from a BertForSequenceClassification model).\n",
            "Device set to use cpu\n",
            "/usr/local/lib/python3.11/dist-packages/transformers/pipelines/token_classification.py:181: UserWarning: `grouped_entities` is deprecated and will be removed in version v5.0.0, defaulted to `aggregation_strategy=\"AggregationStrategy.SIMPLE\"` instead.\n",
            "  warnings.warn(\n"
          ]
        },
        {
          "output_type": "stream",
          "name": "stdout",
          "text": [
            "It looks like you are running Gradio on a hosted a Jupyter notebook. For the Gradio app to work, sharing must be enabled. Automatically setting `share=True` (you can turn this off by setting `share=False` in `launch()` explicitly).\n",
            "\n",
            "Colab notebook detected. To show errors in colab notebook, set debug=True in launch()\n",
            "* Running on public URL: https://110a6963a86f14232f.gradio.live\n",
            "\n",
            "This share link expires in 1 week. For free permanent hosting and GPU upgrades, run `gradio deploy` from the terminal in the working directory to deploy to Hugging Face Spaces (https://huggingface.co/spaces)\n"
          ]
        },
        {
          "output_type": "display_data",
          "data": {
            "text/plain": [
              "<IPython.core.display.HTML object>"
            ],
            "text/html": [
              "<div><iframe src=\"https://110a6963a86f14232f.gradio.live\" width=\"100%\" height=\"500\" allow=\"autoplay; camera; microphone; clipboard-read; clipboard-write;\" frameborder=\"0\" allowfullscreen></iframe></div>"
            ]
          },
          "metadata": {}
        },
        {
          "output_type": "execute_result",
          "data": {
            "text/plain": []
          },
          "metadata": {},
          "execution_count": 12
        }
      ]
    }
  ]
}