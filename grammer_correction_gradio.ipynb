{
  "nbformat": 4,
  "nbformat_minor": 0,
  "metadata": {
    "colab": {
      "provenance": []
    },
    "kernelspec": {
      "name": "python3",
      "display_name": "Python 3"
    },
    "language_info": {
      "name": "python"
    }
  },
  "cells": [
    {
      "cell_type": "code",
      "source": [],
      "metadata": {
        "id": "aeqnY7OrUivy"
      },
      "execution_count": 16,
      "outputs": []
    },
    {
      "cell_type": "code",
      "source": [
        "# ✅ Install packages\n",
        "!pip install transformers sentencepiece gradio --quiet\n",
        "\n",
        "# ✅ Import libraries\n",
        "from transformers import AutoTokenizer, AutoModelForSeq2SeqLM\n",
        "import gradio as gr\n",
        "\n",
        "# ✅ Load the grammar correction model\n",
        "tokenizer = AutoTokenizer.from_pretrained(\"prithivida/grammar_error_correcter_v1\")\n",
        "model = AutoModelForSeq2SeqLM.from_pretrained(\"prithivida/grammar_error_correcter_v1\")\n",
        "\n",
        "# ✅ Grammar correction logic\n",
        "def grammar_polish(user_input):\n",
        "    if not user_input.strip():\n",
        "        return \"⚠️ Please type a sentence to check.\", \"\", \"\"\n",
        "\n",
        "    input_ids = tokenizer.encode(user_input, return_tensors=\"pt\")\n",
        "    outputs = model.generate(input_ids, max_length=128, num_beams=5, early_stopping=True)\n",
        "    corrected = tokenizer.decode(outputs[0], skip_special_tokens=True)\n",
        "\n",
        "    explanation = (\n",
        "        \"🔍 **Why it was corrected?**\\n\\n\"\n",
        "        \"This correction improves grammar by adjusting verb tense, subject-verb agreement, or article usage.\"\n",
        "    )\n",
        "    return f\"🎯 **Corrected Sentence:**\\n\\n```{corrected}```\", explanation, \"✅ Polished successfully!\"\n",
        "\n",
        "# ✅ CSS with Madara Uchiha background\n",
        "custom_css = \"\"\"\n",
        "body {\n",
        "    background-image: url('https://www.sideshow.com/cdn-cgi/image/height=850,quality=90,f=auto/https://www.sideshow.com/storage/product-images/908473/uchiha-madara_naruto-shippuden_gallery_60b194020dfc5.jpg');\n",
        "    background-size: cover;\n",
        "    background-attachment: fixed;\n",
        "    background-position: center;\n",
        "}\n",
        "\n",
        "h1, h2, h3, label {\n",
        "    font-family: 'Georgia', serif;\n",
        "    color: #ffffff;\n",
        "    text-shadow: 1px 1px 2px black;\n",
        "}\n",
        "\n",
        "textarea, input {\n",
        "    font-family: 'Georgia', serif;\n",
        "    font-size: 16px;\n",
        "    background-color: #ffffffdd;\n",
        "}\n",
        "\n",
        ".markdown-body {\n",
        "    background-color: #ffffffdd;\n",
        "    padding: 1em;\n",
        "    border-radius: 10px;\n",
        "}\n",
        "\n",
        "footer {\n",
        "    display: none;\n",
        "}\n",
        "\"\"\"\n",
        "\n",
        "# ✅ Gradio UI\n",
        "with gr.Blocks(css=custom_css, title=\"GrammarPolish Pro\") as app:\n",
        "    gr.Markdown(\"\"\"\n",
        "    # 🩸 GrammarPolish Pro – Ninja-Level Grammar Correction\n",
        "    _Correct grammar mistakes like a true shinobi — sharp, precise, unstoppable._\n",
        "    ✍️ Enter a sentence below and Madara will polish it with perfection.\n",
        "    \"\"\")\n",
        "\n",
        "    with gr.Row():\n",
        "        with gr.Column(scale=2):\n",
        "            input_box = gr.Textbox(\n",
        "                label=\"📝 Enter Your Sentence\",\n",
        "                placeholder=\"e.g. He don't knows where they goes...\",\n",
        "                lines=4\n",
        "            )\n",
        "            run_button = gr.Button(\"🔥 Correct Sentence\")\n",
        "            status = gr.Textbox(label=\"Status\", interactive=False)\n",
        "        with gr.Column(scale=3):\n",
        "            result_box = gr.Markdown(label=\"🎯 Corrected Output\")\n",
        "            explanation_box = gr.Markdown(label=\"💡 Explanation\")\n",
        "\n",
        "    run_button.click(grammar_polish, inputs=input_box, outputs=[result_box, explanation_box, status])\n",
        "\n",
        "    gr.Examples(\n",
        "        label=\"📘 Try These Examples\",\n",
        "        examples=[\n",
        "            [\"He go to school everyday and he no eat breakfast\"],\n",
        "            [\"The peoples is very happy in the yesterday festival\"],\n",
        "            [\"I can plays the piano when I was child\"],\n",
        "            [\"They walks home and goes to sleep very earlier.\"]\n",
        "        ],\n",
        "        inputs=input_box\n",
        "    )\n",
        "\n",
        "# ✅ Launch the app\n",
        "app.launch()\n"
      ],
      "metadata": {
        "colab": {
          "base_uri": "https://localhost:8080/",
          "height": 645
        },
        "id": "v2Vahw6BYkLl",
        "outputId": "b089a526-b476-4840-fb8f-a6500fabedbd"
      },
      "execution_count": 18,
      "outputs": [
        {
          "output_type": "stream",
          "name": "stdout",
          "text": [
            "It looks like you are running Gradio on a hosted a Jupyter notebook. For the Gradio app to work, sharing must be enabled. Automatically setting `share=True` (you can turn this off by setting `share=False` in `launch()` explicitly).\n",
            "\n",
            "Colab notebook detected. To show errors in colab notebook, set debug=True in launch()\n",
            "* Running on public URL: https://1d31b6c586d7b2c7ee.gradio.live\n",
            "\n",
            "This share link expires in 1 week. For free permanent hosting and GPU upgrades, run `gradio deploy` from the terminal in the working directory to deploy to Hugging Face Spaces (https://huggingface.co/spaces)\n"
          ]
        },
        {
          "output_type": "display_data",
          "data": {
            "text/plain": [
              "<IPython.core.display.HTML object>"
            ],
            "text/html": [
              "<div><iframe src=\"https://1d31b6c586d7b2c7ee.gradio.live\" width=\"100%\" height=\"500\" allow=\"autoplay; camera; microphone; clipboard-read; clipboard-write;\" frameborder=\"0\" allowfullscreen></iframe></div>"
            ]
          },
          "metadata": {}
        },
        {
          "output_type": "execute_result",
          "data": {
            "text/plain": []
          },
          "metadata": {},
          "execution_count": 18
        }
      ]
    }
  ]
}