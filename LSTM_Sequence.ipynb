
 import numpy as np
 from tensorflow.keras.models import Sequential
 from tensorflow.keras.layers import SimpleRNN,Dense,LSTM
 import matplotlib.pyplot as plt
 sequence =np.array([i for i in range(1,101)])
 window_size=3
 x=[]
 y=[]
 for i in range(len(sequence) - window_size):
   x.append(sequence[i:i +window_size ])
   y.append(sequence[i+window_size])
 x=np.array(x)
 y=np.array(y)
 x=x.reshape((x.shape[0],x.shape[1],1))
 model=Sequential()
 model.add(LSTM(50,activation='sigmoid',input_shape=(window_size,1)))
 model.add(Dense(1))
 model.compile(optimizer='adam',loss='mse')
 
 model.fit(x,y,epochs=1000,verbose=1)
 print("Training complete")
 
 test_input=np.array([1,2,3])
 test_input=test_input.reshape((1,window_size,1))
 predicted=model.predict(test_input,verbose=0)
 print(predicted)

 predictions=model.predict(x)
 plt.plot(y,label="True Values")
 plt.plot(predictions,label='Predicted')
 plt.legend()
 plt.title("Vanakam da mapla theni la erunthu")
 plt.show()
