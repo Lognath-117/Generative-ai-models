import gradio as gr
import cv2
import numpy as np

def process_image(effect, image):
    img = cv2.cvtColor(image, cv2.COLOR_RGB2BGR)

    if effect == "Grayscale":
        processed = cv2.cvtColor(img, cv2.COLOR_BGR2GRAY)
        processed = cv2.cvtColor(processed, cv2.COLOR_GRAY2RGB)
    elif effect == "Canny Edge":
        edges = cv2.Canny(img, 100, 200)
        processed = cv2.cvtColor(edges, cv2.COLOR_GRAY2RGB)
    elif effect == "Blur":
        processed = cv2.GaussianBlur(img, (15, 15), 0)
    elif effect == "Cartoon":
        gray = cv2.cvtColor(img, cv2.COLOR_BGR2GRAY)
        inv = 255 - gray
        blur = cv2.GaussianBlur(inv, (21, 21), 0)
        inv_blur = 255 - blur
        sketch = cv2.divide(gray, inv_blur, scale=256.0)
        processed = cv2.cvtColor(sketch, cv2.COLOR_GRAY2RGB)
    else:
        processed = img

    return cv2.cvtColor(processed, cv2.COLOR_BGR2RGB)

effects = ["Original", "Grayscale", "Canny Edge", "Blur", "Cartoon"]

gr.Interface(
    fn=process_image,
    inputs=[
        gr.Dropdown(choices=effects, label="Choose Effect", value="Cartoon"),
        gr.Image(type="numpy", label="Upload an Image")
    ],
    outputs=gr.Image(label="Processed Image"),
    title="🎨 OpenCV Fun Image Processor",
    description="Apply fun filters to your image using OpenCV!"
).launch()
