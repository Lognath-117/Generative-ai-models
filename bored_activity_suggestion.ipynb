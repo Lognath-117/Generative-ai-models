import gradio as gr
import requests
import random

# Backup activities
mock_activities = [
    {"activity": "Go for a walk", "type": "recreational", "participants": 1, "price": 0.1},
    {"activity": "Learn Python", "type": "education", "participants": 1, "price": 0},
    {"activity": "Have a video call with a friend", "type": "social", "participants": 2, "price": 0},
    {"activity": "Cook a new recipe", "type": "cooking", "participants": 1, "price": 0.3},
    {"activity": "Volunteer online", "type": "charity", "participants": 1, "price": 0},
    {"activity": "Meditate for 10 minutes", "type": "relaxation", "participants": 1, "price": 0},
]

activity_types = [
    "random", "education", "recreational", "social", "diy",
    "charity", "cooking", "relaxation", "music", "busywork"
]

def get_activity_ui(activity_type, participants):
    base_url = "https://www.boredapi.com/api/activity"
    params = {}

    if activity_type != "random":
        params["type"] = activity_type
    if participants != "any":
        params["participants"] = int(participants)

    try:
        response = requests.get(base_url, params=params, timeout=5)
        data = response.json()

        if 'error' in data:
            raise ValueError(data['error'])

        return (
            f"💡 **Activity**: {data['activity']}\n"
            f"👤 **Type**: {data['type'].capitalize()}\n"
            f"👥 **Participants**: {data['participants']}\n"
            f"💰 **Price**: {data['price']}\n"
            f"🔗 **Link**: {data['link'] or 'None'}"
        )

    except Exception:
        # Filter fallback activities
        filtered = mock_activities
        if activity_type != "random":
            filtered = [a for a in filtered if a["type"] == activity_type]
        if participants != "any":
            filtered = [a for a in filtered if a["participants"] == int(participants)]

        if not filtered:
            return "❌ No suggestions found offline with the given filters."
        activity = random.choice(filtered)
        return (
            f"💡 **Activity**: {activity['activity']}\n"
            f"👤 **Type**: {activity['type'].capitalize()}\n"
            f"👥 **Participants**: {activity['participants']}\n"
            f"💰 **Price**: {activity['price']}"
        )

# Gradio UI
demo = gr.Interface(
    fn=get_activity_ui,
    inputs=[
        gr.Dropdown(activity_types, label="Choose activity type"),
        gr.Dropdown(["any", "1", "2", "3", "4", "5"], label="Number of participants"),
    ],
    outputs=gr.Markdown(label="Suggested Activity"),
    title="🎉 Bored? Here's Something Fun!",
    description="Choose an activity type and number of participants, and get a fun idea!",
    allow_flagging="never"
)

demo.launch()
