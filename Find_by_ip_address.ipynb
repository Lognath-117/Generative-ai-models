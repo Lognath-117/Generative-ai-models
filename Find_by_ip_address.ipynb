ip = "8.8.8.8"
response = requests.get(f"http://ip-api.com/json/{ip}")
data = response.json()
print(data)
import gradio as gr
import requests

def locate_ip(ip):
    try:
        response = requests.get(f"http://ip-api.com/json/{ip}")
        data = response.json()
        if data.get("status") != "success":
            return f"❌ Error: {data.get('message', 'Unknown error')}"
        return f"""📍 IP Info:
IP: {data.get('query')}
City: {data.get('city')}
Region: {data.get('regionName')}
Country: {data.get('country')}
Latitude: {data.get('lat')}
Longitude: {data.get('lon')}
ISP: {data.get('isp')}"""
    except Exception as e:
        return f"⚠️ Exception: {str(e)}"

gr.Interface(fn=locate_ip, inputs=gr.Textbox(label="Enter IP"), outputs="textbox", title="IP Geolocation (via ip-api)").launch()
