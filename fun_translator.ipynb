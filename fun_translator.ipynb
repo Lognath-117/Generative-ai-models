import gradio as gr
import requests

# Translator function using Fun Translations API
def translate_fun(style, text):
    url = f"https://api.funtranslations.com/translate/{style}.json"
    payload = {"text": text}

    try:
        response = requests.post(url, data=payload)
        data = response.json()

        if "error" in data:
            return f"⚠️ Error: {data['error']['message']}"

        return f"🎭 **Translated Text:**\n\n{data['contents']['translated']}"

    except Exception as e:
        return f"⚠️ Failed to connect to the translation API: {e}"

# Available fun translation styles
styles = [
    "shakespeare", "yoda", "pirate", "minion",
    "valyrian", "sith", "dothraki", "cheunh", "ferb-latin"
]

# Gradio UI
demo = gr.Interface(
    fn=translate_fun,
    inputs=[
        gr.Dropdown(styles, label="Choose a fun translation style", value="yoda"),
        gr.Textbox(label="Enter your text", placeholder="Speak like a pirate or Yoda you must...", lines=3)
    ],
    outputs=gr.Markdown(label="Translated Output"),
    title="🧠 NLP Fun Translator",
    description="Translate your text into Yoda-speak, Pirate slang, Shakespearean English and more!",
    allow_flagging="never"
)

demo.launch()
