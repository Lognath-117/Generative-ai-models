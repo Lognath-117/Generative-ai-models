import gradio as gr
import requests

def get_number_fact(number, fact_type):
    try:
        # Handle random separately
        num_part = number if number.strip().lower() != "random" else "random"
        
        # For date, use fixed format or ask user to enter 'month/day'
        if fact_type == "date" and "/" not in num_part:
            return "Please enter a date in MM/DD format (e.g., 7/17)."
        
        url = f"http://numbersapi.com/{num_part}/{fact_type}"
        response = requests.get(url)
        
        if response.status_code == 200:
            return response.text
        else:
            return f"❌ Error: Couldn't fetch fact. Status code {response.status_code}"
    except Exception as e:
        return f"⚠️ Exception: {str(e)}"

gr.Interface(
    fn=get_number_fact,
    inputs=[
        gr.Textbox(label="Enter a Number or 'random'", placeholder="e.g., 42 or random"),
        gr.Radio(["trivia", "math", "date", "year"], label="Fact Type", value="trivia")
    ],
    outputs=gr.Textbox(label="Number Fact"),
    title="🔢 Numbers API Fun Fact Finder",
    description="Get trivia, math, date, or year facts about any number using the Numbers API!"
).launch()
