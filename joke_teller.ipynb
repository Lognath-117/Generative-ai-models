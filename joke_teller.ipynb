import gradio as gr
import requests

# Function to fetch joke from API
def get_joke(category, joke_type):
    url = f"https://v2.jokeapi.dev/joke/{category}"

    params = {}
    if joke_type != "any":
        params["type"] = joke_type

    try:
        response = requests.get(url, params=params)
        data = response.json()

        if data.get("error"):
            return f"❌ Error: {data.get('message', 'Failed to fetch joke.')}"
        
        if data["type"] == "single":
            return f"😂 **Joke:**\n{data['joke']}"
        else:
            return f"🤣 **Setup:** {data['setup']}\n\n😆 **Delivery:** {data['delivery']}"

    except Exception as e:
        return f"⚠️ Failed to get joke: {e}"

# Gradio UI setup
category_list = ["Any", "Programming", "Misc", "Dark", "Pun", "Spooky", "Christmas"]
joke_type_list = ["any", "single", "twopart"]

demo = gr.Interface(
    fn=get_joke,
    inputs=[
        gr.Dropdown(category_list, label="Joke Category", value="Any"),
        gr.Dropdown(joke_type_list, label="Joke Type", value="any")
    ],
    outputs=gr.Markdown(label="Your Joke"),
    title="🤣 Random Joke Generator",
    description="Choose a joke category and type to get a random joke!",
    allow_flagging="never"
)

demo.launch()
